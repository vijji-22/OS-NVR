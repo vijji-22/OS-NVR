{
  "nbformat": 4,
  "nbformat_minor": 0,
  "metadata": {
    "colab": {
      "provenance": [],
      "authorship_tag": "ABX9TyMd/BhuFksvwwLOdqHpzpyk",
      "include_colab_link": true
    },
    "kernelspec": {
      "name": "python3",
      "display_name": "Python 3"
    },
    "language_info": {
      "name": "python"
    }
  },
  "cells": [
    {
      "cell_type": "markdown",
      "metadata": {
        "id": "view-in-github",
        "colab_type": "text"
      },
      "source": [
        "<a href=\"https://colab.research.google.com/github/vijji-22/OS-NVR/blob/master/assignment1.ipynb\" target=\"_parent\"><img src=\"https://colab.research.google.com/assets/colab-badge.svg\" alt=\"Open In Colab\"/></a>"
      ]
    },
    {
      "cell_type": "code",
      "source": [
        "result = [i*i for i in range(1,11) ]\n",
        "print(result)\n"
      ],
      "metadata": {
        "colab": {
          "base_uri": "https://localhost:8080/"
        },
        "id": "kBSfGhrasz0i",
        "outputId": "89b81b35-82fe-4459-ff1c-5edaf6266989"
      },
      "execution_count": 17,
      "outputs": [
        {
          "output_type": "stream",
          "name": "stdout",
          "text": [
            "[1, 4, 9, 16, 25, 36, 49, 64, 81, 100]\n"
          ]
        }
      ]
    },
    {
      "cell_type": "code",
      "source": [
        "year = int(input(\"Enter a year: \"))\n",
        "if (year%400 == 0) or (year%4==0 and year%100!=0):\n",
        "  print(\"The year is a leap year! \")\n",
        "else:\n",
        "  print(\"The year is not a leap year! \")"
      ],
      "metadata": {
        "colab": {
          "base_uri": "https://localhost:8080/"
        },
        "id": "gu1WZot6tdmm",
        "outputId": "adb587c9-5c31-471e-ab28-4b8223a8a472"
      },
      "execution_count": 22,
      "outputs": [
        {
          "output_type": "stream",
          "name": "stdout",
          "text": [
            "Enter a year: 2000\n",
            "The year is a leap year! \n"
          ]
        }
      ]
    },
    {
      "cell_type": "code",
      "source": [
        "a1=[1,2,3,4,5,6,7,8,9,10]\n",
        "a2=[]\n",
        "result =[a2.append(i)  for i in a1 ]\n",
        "print(result)"
      ],
      "metadata": {
        "colab": {
          "base_uri": "https://localhost:8080/"
        },
        "id": "xugPjjkn0p9l",
        "outputId": "8c63ee01-edf9-4ce0-8a96-27877ea55ae9"
      },
      "execution_count": 42,
      "outputs": [
        {
          "output_type": "stream",
          "name": "stdout",
          "text": [
            "[None, None, None, None, None, None, None, None, None, None]\n"
          ]
        }
      ]
    },
    {
      "cell_type": "code",
      "source": [
        "array = [1,2,3,4,5,6]\n",
        "def even(array):\n",
        " l = []\n",
        "for i in array:\n",
        " if i%2==0:\n",
        "  l.append(i)\n",
        "return l\n",
        "print(even(array))"
      ],
      "metadata": {
        "colab": {
          "base_uri": "https://localhost:8080/",
          "height": 245
        },
        "id": "ZU0igwgEw6SK",
        "outputId": "6a6effe2-c8b5-48da-8e0f-3e80303948a6"
      },
      "execution_count": 43,
      "outputs": [
        {
          "output_type": "error",
          "ename": "NameError",
          "evalue": "ignored",
          "traceback": [
            "\u001b[0;31m---------------------------------------------------------------------------\u001b[0m",
            "\u001b[0;31mNameError\u001b[0m                                 Traceback (most recent call last)",
            "\u001b[0;32m<ipython-input-43-24df671f0271>\u001b[0m in \u001b[0;36m<cell line: 4>\u001b[0;34m()\u001b[0m\n\u001b[1;32m      4\u001b[0m \u001b[0;32mfor\u001b[0m \u001b[0mi\u001b[0m \u001b[0;32min\u001b[0m \u001b[0marray\u001b[0m\u001b[0;34m:\u001b[0m\u001b[0;34m\u001b[0m\u001b[0;34m\u001b[0m\u001b[0m\n\u001b[1;32m      5\u001b[0m  \u001b[0;32mif\u001b[0m \u001b[0mi\u001b[0m\u001b[0;34m%\u001b[0m\u001b[0;36m2\u001b[0m\u001b[0;34m==\u001b[0m\u001b[0;36m0\u001b[0m\u001b[0;34m:\u001b[0m\u001b[0;34m\u001b[0m\u001b[0;34m\u001b[0m\u001b[0m\n\u001b[0;32m----> 6\u001b[0;31m   \u001b[0ml\u001b[0m\u001b[0;34m.\u001b[0m\u001b[0mappend\u001b[0m\u001b[0;34m(\u001b[0m\u001b[0mi\u001b[0m\u001b[0;34m)\u001b[0m\u001b[0;34m\u001b[0m\u001b[0;34m\u001b[0m\u001b[0m\n\u001b[0m\u001b[1;32m      7\u001b[0m \u001b[0;32mreturn\u001b[0m \u001b[0ml\u001b[0m\u001b[0;34m\u001b[0m\u001b[0;34m\u001b[0m\u001b[0m\n\u001b[1;32m      8\u001b[0m \u001b[0mprint\u001b[0m\u001b[0;34m(\u001b[0m\u001b[0meven\u001b[0m\u001b[0;34m(\u001b[0m\u001b[0marray\u001b[0m\u001b[0;34m)\u001b[0m\u001b[0;34m)\u001b[0m\u001b[0;34m\u001b[0m\u001b[0;34m\u001b[0m\u001b[0m\n",
            "\u001b[0;31mNameError\u001b[0m: name 'l' is not defined"
          ]
        }
      ]
    },
    {
      "cell_type": "code",
      "source": [
        "import math\n",
        "mylist=[10, 20, 30, \"apple\", True, 8.10]\n",
        "mylist.append(30)\n",
        "mylist.append(40)\n",
        "print(mylist)\n",
        "reverselist=mylist[::-1]\n",
        "print(reverselist)"
      ],
      "metadata": {
        "colab": {
          "base_uri": "https://localhost:8080/"
        },
        "id": "yDdUYGbGw6ib",
        "outputId": "71c0f422-c00e-4f96-c372-b5de8ac0863a"
      },
      "execution_count": 54,
      "outputs": [
        {
          "output_type": "stream",
          "name": "stdout",
          "text": [
            "[10, 20, 30, 'apple', True, 8.1, 30, 40]\n",
            "[40, 30, 8.1, True, 'apple', 30, 20, 10]\n"
          ]
        }
      ]
    },
    {
      "cell_type": "code",
      "source": [
        "d={1:\"data\",2:\"information\",3:\"text\"}\n",
        "print(d)\n",
        "type(d)\n",
        "d.pop(3)\n",
        "print(d)\n",
        "d[4]=\"feature\"\n",
        "print(d)\n",
        "for data in d:\n",
        "  print(d[1])"
      ],
      "metadata": {
        "colab": {
          "base_uri": "https://localhost:8080/"
        },
        "id": "Kk19DHi_ub2S",
        "outputId": "764e424a-469e-4954-aa5e-fd12bf5013da"
      },
      "execution_count": 65,
      "outputs": [
        {
          "output_type": "stream",
          "name": "stdout",
          "text": [
            "{1: 'data', 2: 'information', 3: 'text'}\n",
            "{1: 'data', 2: 'information'}\n",
            "{1: 'data', 2: 'information', 4: 'feature'}\n",
            "data\n",
            "data\n",
            "data\n"
          ]
        }
      ]
    },
    {
      "cell_type": "code",
      "source": [
        "a=()\n",
        "type(a)\n",
        "result=print( a+(1, 2, 3, \"apple\", \"mango\"))\n",
        "print(result)"
      ],
      "metadata": {
        "colab": {
          "base_uri": "https://localhost:8080/"
        },
        "id": "y0TeVRB8_qqE",
        "outputId": "aac301c0-9df8-4a16-b77f-891002dc7861"
      },
      "execution_count": 84,
      "outputs": [
        {
          "output_type": "stream",
          "name": "stdout",
          "text": [
            "(1, 2, 3, 'apple', 'mango')\n",
            "None\n"
          ]
        }
      ]
    },
    {
      "cell_type": "code",
      "source": [
        "numeric_tuple=(10,20,30,40,50)\n",
        "print(type(numeric_tuple))\n",
        "min(numeric_tuple)\n",
        "mytuple=(10,20,\"vijji\")\n",
        "r1=mytuple+numeric_tuple\n",
        "print(r1)\n",
        "n=4\n",
        "newdupli=((r1, ) * n)\n",
        "print(newdupli)\n"
      ],
      "metadata": {
        "colab": {
          "base_uri": "https://localhost:8080/"
        },
        "id": "7HAIbyf5Atq9",
        "outputId": "cb0ee081-50d8-4b4c-d23d-efc9e1acf8b7"
      },
      "execution_count": 86,
      "outputs": [
        {
          "output_type": "stream",
          "name": "stdout",
          "text": [
            "<class 'tuple'>\n",
            "(10, 20, 'vijji', 10, 20, 30, 40, 50)\n",
            "((10, 20, 'vijji', 10, 20, 30, 40, 50), (10, 20, 'vijji', 10, 20, 30, 40, 50), (10, 20, 'vijji', 10, 20, 30, 40, 50), (10, 20, 'vijji', 10, 20, 30, 40, 50))\n"
          ]
        }
      ]
    },
    {
      "cell_type": "code",
      "source": [
        "set1=set([1,2,3,4,5])\n",
        "set2=set([2,3,7,6,1])\n",
        "print(type(set1))\n",
        "print(set1)\n",
        "print(set2)\n",
        "set1.union(set2)\n",
        "set1.intersection(set2)\n",
        "set1.difference(set2)"
      ],
      "metadata": {
        "colab": {
          "base_uri": "https://localhost:8080/"
        },
        "id": "TyB6c2ksAuSY",
        "outputId": "bc75795f-832c-4b85-f5a9-f8253d5dcca1"
      },
      "execution_count": 97,
      "outputs": [
        {
          "output_type": "stream",
          "name": "stdout",
          "text": [
            "<class 'set'>\n",
            "{1, 2, 3, 4, 5}\n",
            "{1, 2, 3, 6, 7}\n"
          ]
        },
        {
          "output_type": "execute_result",
          "data": {
            "text/plain": [
              "{4, 5}"
            ]
          },
          "metadata": {},
          "execution_count": 97
        }
      ]
    },
    {
      "cell_type": "code",
      "source": [
        "a=10\n",
        "b=20\n",
        "if b>a:\n",
        "  print(\"b is greater than a\")\n",
        "else:\n",
        "    print(\"b is less than a\")"
      ],
      "metadata": {
        "colab": {
          "base_uri": "https://localhost:8080/"
        },
        "id": "xbrK0hicEnQl",
        "outputId": "451bff18-61ad-48c6-b0e9-264c7b8ec178"
      },
      "execution_count": 99,
      "outputs": [
        {
          "output_type": "stream",
          "name": "stdout",
          "text": [
            "b is greater than a\n"
          ]
        }
      ]
    },
    {
      "cell_type": "code",
      "source": [
        "a=int(input(\"enter a number:\"))\n",
        "b=int(input(\"enter a number:\"))\n",
        "c=int(input(\"enter a number:\"))\n",
        "if (a>b) and (b>c):\n",
        " print(\"a\")\n",
        "elif (b>c) and (c>a):\n",
        "  print(\"b\")\n",
        "else:\n",
        "  print(\"c\")\n",
        "\n"
      ],
      "metadata": {
        "colab": {
          "base_uri": "https://localhost:8080/"
        },
        "id": "u82unkdSEnqx",
        "outputId": "ee72a7e4-1143-4952-dea7-21cc0a4f54bf"
      },
      "execution_count": 103,
      "outputs": [
        {
          "output_type": "stream",
          "name": "stdout",
          "text": [
            "enter a number:222\n",
            "enter a number:2222\n",
            "enter a number:22222\n",
            "c\n"
          ]
        }
      ]
    },
    {
      "cell_type": "code",
      "source": [
        "n = 1\n",
        "while n <= 10:\n",
        "   print(n, end=',')\n",
        "   n = n+1"
      ],
      "metadata": {
        "colab": {
          "base_uri": "https://localhost:8080/"
        },
        "id": "e78pXcrAI489",
        "outputId": "db707214-af4c-4618-ec35-a396ca2580a2"
      },
      "execution_count": 111,
      "outputs": [
        {
          "output_type": "stream",
          "name": "stdout",
          "text": [
            "1,2,3,4,5,6,7,8,9,10,"
          ]
        }
      ]
    },
    {
      "cell_type": "code",
      "source": [
        "l1=[10,23,4,26,4,75,24,54]\n",
        "print(l1)\n",
        "l2=[]\n",
        "l3=[]\n",
        "for i in l1:\n",
        "   while (i in l1):\n",
        "      if(i%2==0):\n",
        "        l2.append(i)\n",
        "        print(l2)\n",
        "      else:\n",
        "        l3.append(i)\n",
        "        print(l3)"
      ],
      "metadata": {
        "id": "93Lep6_7JFnn"
      },
      "execution_count": null,
      "outputs": []
    },
    {
      "cell_type": "code",
      "source": [
        "n = int(input(\"Enter a number: \"))\n",
        "flag = False\n",
        "\n",
        "if n == 1:\n",
        "    print(n, \"is a prime number\")\n",
        "elif n > 1:\n",
        "    for i in range(2, n):\n",
        "        if (n % i) == 0:\n",
        "            flag = True\n",
        "            break\n",
        "    if flag:\n",
        "        print(n, \"is not a prime number\")\n",
        "    else:\n",
        "        print(n, \"is a prime number\")\n"
      ],
      "metadata": {
        "colab": {
          "base_uri": "https://localhost:8080/"
        },
        "id": "3-xY1vxTM4kr",
        "outputId": "7c1e80dc-4b4a-4f4b-ba80-f9ab0a7ae4c2"
      },
      "execution_count": 15,
      "outputs": [
        {
          "output_type": "stream",
          "name": "stdout",
          "text": [
            "Enter a number: 44\n",
            "44 is not a prime number\n"
          ]
        }
      ]
    }
  ]
}